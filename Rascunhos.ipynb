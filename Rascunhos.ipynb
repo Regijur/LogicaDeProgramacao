{
 "cells": [
  {
   "cell_type": "code",
   "execution_count": 19,
   "id": "737a21c9",
   "metadata": {},
   "outputs": [
    {
     "name": "stdout",
     "output_type": "stream",
     "text": [
      "False\n",
      "True\n",
      "True\n",
      "True\n"
     ]
    }
   ],
   "source": [
    "#autor: Reginaldo Mota (O Régis)\n",
    "\n",
    "class Pessoa:\n",
    "    def __init__(self, nome, idade):\n",
    "        self.nome = nome\n",
    "        self.idade = idade\n",
    "\n",
    "Reginaldo1 = Pessoa('Reginaldo', 19)\n",
    "Reginaldo2 = Pessoa('Reginaldo', 19)\n",
    "\n",
    "print(Reginaldo1 is Reginaldo2) # retorna False\n",
    "print(Reginaldo1 is not Reginaldo2) # retorna True\n",
    "print(Reginaldo1.nome == Reginaldo2.nome) # retorna True\n",
    "print(Reginaldo1.idade == Reginaldo2.idade) # retorna True"
   ]
  },
  {
   "cell_type": "code",
   "execution_count": 27,
   "id": "99221443",
   "metadata": {},
   "outputs": [
    {
     "name": "stdout",
     "output_type": "stream",
     "text": [
      "True\n",
      "True\n",
      "False\n",
      "True\n"
     ]
    }
   ],
   "source": [
    "#autor: Reginaldo Mota (O Régis)\n",
    "\n",
    "nome = 'O Régis'\n",
    "\n",
    "print('O' in nome) #imprime: True\n",
    "print('Régis' in nome) #imprime: True\n",
    "print('A' in nome) #imprime: False\n",
    "print('F' not in nome) #imprime:True"
   ]
  },
  {
   "cell_type": "code",
   "execution_count": 39,
   "id": "d84b1621",
   "metadata": {},
   "outputs": [
    {
     "name": "stdout",
     "output_type": "stream",
     "text": [
      "4\n",
      "[1, 2, 3, 4, 5, 6, 7, 8, 9, 10]\n",
      "[42, 2, 3, 4, 5, 6, 7, 8, 9, 10]\n",
      "[42, 2, 3, 4, 5, 6, 7, 8, 9, 10, 10]\n"
     ]
    }
   ],
   "source": [
    "#autor: O Régis\n",
    "\n",
    "lista_de_numeros = [ 1, 2, 3, 4, 5, 6, 7, 8, 9 ]\n",
    "\n",
    "print(lista_de_numeros[3]) #imprime: 4\n",
    "\n",
    "lista_de_numeros.append(10) \n",
    "\n",
    "print(lista_de_numeros) #imprime: [1, 2, 3, 4, 5, 6, 7, 8, 9, 10]\n",
    "\n",
    "lista_de_numeros[0] = 42\n",
    "\n",
    "print(lista_de_numeros) #imprime: [42, 2, 3, 4, 5, 6, 7, 8, 9, 10]\n",
    "\n",
    "lista_de_numeros.append(10)\n",
    "\n",
    "print(lista_de_numeros) #imprime: [1, 2, 3, 4, 5, 6, 7, 8, 9, 10, 10]\n"
   ]
  },
  {
   "cell_type": "code",
   "execution_count": 66,
   "id": "ce13d440",
   "metadata": {},
   "outputs": [
    {
     "name": "stdout",
     "output_type": "stream",
     "text": [
      "(4, 2)\n",
      "(8, 3)\n",
      "4\n",
      "3\n",
      "(1, 2, 3, 4, 5, 6, 7, 8, 9, 0, 1, 2, 3, 45, 7, 2, 6, 9, 3, 1, 1, 1, 1, 1)\n"
     ]
    }
   ],
   "source": [
    "#autor: Reginaldo Mota (O Régis)\n",
    "\n",
    "coordenadas_iniciais = (4,2)\n",
    "coordenadas_finais = (8,3)\n",
    "\n",
    "print(coordenadas_iniciais)\n",
    "print(coordenadas_finais)\n",
    "\n",
    "print(coordenadas_iniciais[0])\n",
    "print(coordenadas_finais[1])\n",
    "\n",
    "# As linhas abaixo retornam erros\n",
    "# coordenadas_iniciais[0] = 3 # imutável\n",
    "# coordenadas_iniciais[2] = 2 # inexpansível\n",
    "\n",
    "# Tuplas podem ter vários elementos e duplicados\n",
    "\n",
    "tupla_gigante = (1,2,3,4,5,6,7,8,9,0,1,2,3,45,7,2,6,9,3,1,1,1,1,1)\n",
    "\n",
    "print(tupla_gigante) #imprime: (1, 2, 3, 4, 5, 6, 7, 8, 9, 0, 1, 2, 3, 45, 7, 2, 6, 9, 3, 1, 1, 1, 1, 1)"
   ]
  },
  {
   "cell_type": "code",
   "execution_count": 108,
   "id": "0437c66a",
   "metadata": {},
   "outputs": [
    {
     "name": "stdout",
     "output_type": "stream",
     "text": [
      "{1, 2, 3, 4, 5}\n",
      "{'i', 'u', 'a', 'e', 'o'}\n",
      "{0.4, 1.2, 1.4, 5.2, 5.1}\n",
      "{0, 1, 2, 3, 4, 5}\n",
      "{0, 1, 2, 3, 4, 5}\n"
     ]
    }
   ],
   "source": [
    "#autor: Reginaldo Mota (O Régis)\n",
    "\n",
    "numeros_ordenados = { 2, 1, 3, 5, 4 } # ordena números automaticamente\n",
    "vogais = { 'a', 'e', 'i', 'o', 'u'} # o mesmo não acontece com letras\n",
    "numeros_decimais = {1.2,5.2,0.4,1.4,5.1} # ordena se diferença entre os números for maior ou igual a 0.2\n",
    "\n",
    "print(numeros_ordenados) # imprime: {1, 2, 3, 4, 5}\n",
    "print(vogais) # imprime: {'i', 'u', 'a', 'e', 'o'}\n",
    "print(numeros_decimais) # imprime: {0.4, 1.2, 1.4, 5.2, 5.1}\n",
    "\n",
    "numeros_ordenados.add(0) # expansível\n",
    "\n",
    "print(numeros_ordenados) # imprime: {0, 1, 2, 3, 4, 5}\n",
    "\n",
    "numeros_ordenados.add(0) # não permite duplicatas\n",
    "\n",
    "print(numeros_ordenados) # imprime: {0, 1, 2, 3, 4, 5}\n",
    "\n",
    "# As linhas abaixo retornam erros\n",
    "# numeros_ordenados[0] = 3 # diretamente imutável"
   ]
  },
  {
   "cell_type": "code",
   "execution_count": 122,
   "id": "d3d710a0",
   "metadata": {},
   "outputs": [
    {
     "name": "stdout",
     "output_type": "stream",
     "text": [
      "O mais brabo para aprender a programar\n",
      "Conteúdo muito bom e de fácil entendimento\n",
      "Conheça os perfis no YouTube e no Instagram\n"
     ]
    }
   ],
   "source": [
    "#autor: Reginaldo Mota (O Régis)\n",
    "\n",
    "perfis_do_instagram = {\n",
    "    'oregis.dev' : 'O mais brabo para aprender a programar',\n",
    "    'codigofontetv' : 'Conteúdo de qualidade sobre programação',\n",
    "    'lucasmontano' : 'Se tu quer tomar um choque de realidade',\n",
    "    'universoprogramado' : 'Um canal sobre tecnologia e inteligência artificial'\n",
    "}\n",
    "\n",
    "print(perfis_do_instagram['oregis.dev']) #imprime: O mais brabo para aprender a programar\n",
    "\n",
    "perfis_do_instagram['programador.cs'] = 'Conteúdo muito bom e de fácil entendimento'\n",
    "\n",
    "print(perfis_do_instagram['programador.cs']) #imprime: Conteúdo muito bom e de fácil entendimento\n",
    "\n",
    "perfis_do_instagram['oregis.dev'] = 'Conheça os perfis no YouTube e no Instagram'\n",
    "\n",
    "print(perfis_do_instagram['oregis.dev']) #imprime: Conheça os perfis no YouTube e no Instagram\n",
    "\n",
    "perfis_do_instagram['oregis.dev'] = 'Conheça o site oregis.dev.br, leia o blog para aprender muito mais ou jogue um jogo'\n",
    "\n",
    "print(perfis_do_instagram['oregis.dev']) #imprime: Conheça o site oregis.dev.br, leia o blog para aprender muito mais ou jogue um jogo"
   ]
  },
  {
   "cell_type": "code",
   "execution_count": 129,
   "id": "6525e377",
   "metadata": {},
   "outputs": [
    {
     "name": "stdout",
     "output_type": "stream",
     "text": [
      "Digite o valor da média final: 5.5\n",
      "Recuparação\n"
     ]
    }
   ],
   "source": [
    "#autor: Reginaldo Mota (O Régis)\n",
    "\n",
    "media_final = float(input('Digite o valor da média final: '))\n",
    "\n",
    "if media_final >= 6.0:\n",
    "    print('Aprovado')\n",
    "\n",
    "if media_final >= 5.0 and media_final < 6.0:\n",
    "    print('Recuparação')\n",
    "    \n",
    "if media_final < 5.0:\n",
    "    print('Reprovado')"
   ]
  },
  {
   "cell_type": "code",
   "execution_count": 130,
   "id": "9bd8114d",
   "metadata": {},
   "outputs": [
    {
     "name": "stdout",
     "output_type": "stream",
     "text": [
      "Digite o valor da média final: 5.5\n",
      "Recuparação\n"
     ]
    }
   ],
   "source": [
    "#autor: Reginaldo Mota (O Régis)\n",
    "\n",
    "media_final = float(input('Digite o valor da média final: '))\n",
    "\n",
    "if media_final >= 6.0:\n",
    "    print('Aprovado')\n",
    "else:\n",
    "    if media_final >= 5.0 and media_final < 6.0:\n",
    "        print('Recuparação')\n",
    "    else:\n",
    "        print('Reprovado')"
   ]
  },
  {
   "cell_type": "code",
   "execution_count": 132,
   "id": "6b6456ba",
   "metadata": {},
   "outputs": [
    {
     "name": "stdout",
     "output_type": "stream",
     "text": [
      "Digite o valor da média final: 4\n",
      "Reprovado\n"
     ]
    }
   ],
   "source": [
    "#autor: Reginaldo Mota (O Régis)\n",
    "\n",
    "media_final = float(input('Digite o valor da média final: '))\n",
    "\n",
    "if media_final >= 6.0:\n",
    "    print('Aprovado')\n",
    "elif media_final >= 5.0 and media_final < 6.0:\n",
    "    print('Recuparação')\n",
    "else:\n",
    "    print('Reprovado')"
   ]
  },
  {
   "cell_type": "code",
   "execution_count": 136,
   "id": "72c77d0d",
   "metadata": {},
   "outputs": [
    {
     "name": "stdout",
     "output_type": "stream",
     "text": [
      "Digite o valor da média final: 3\n",
      "Já era, nos vemos no próximo semestre\n"
     ]
    }
   ],
   "source": [
    "#autor: Reginaldo Mota (O Régis)\n",
    "\n",
    "status_do_estudante = ''\n",
    "media_final = float(input('Digite o valor da média final: '))\n",
    "\n",
    "if media_final >= 6.0:\n",
    "    status_do_estudante = 'Aprovado'\n",
    "elif media_final >= 5.0 and media_final < 6.0:\n",
    "    status_do_estudante = 'Recuparação'\n",
    "else:\n",
    "    status_do_estudante = 'Reprovado'\n",
    "\n",
    "match status_do_estudante:\n",
    "    case 'Aprovado':\n",
    "        print('Parabéns, você está de férias!')\n",
    "    case 'Recuparação':\n",
    "        print('Ainda não deu, mas ainda resta uma chance, estude para a recuperação')\n",
    "    case 'Reprovado':\n",
    "        print('Já era, nos vemos no próximo semestre')\n",
    "    case _:\n",
    "        print('Input inválido')"
   ]
  },
  {
   "cell_type": "code",
   "execution_count": 138,
   "id": "1855037c",
   "metadata": {},
   "outputs": [
    {
     "name": "stdout",
     "output_type": "stream",
     "text": [
      "0\n",
      "1\n",
      "2\n",
      "3\n",
      "4\n",
      "5\n",
      "6\n",
      "7\n",
      "8\n",
      "9\n",
      "10\n"
     ]
    }
   ],
   "source": [
    "#autor: Reginaldo Mota (O Régis)\n",
    "\n",
    "print(0)\n",
    "print(1)\n",
    "print(2)\n",
    "print(3)\n",
    "print(4)\n",
    "print(5)\n",
    "print(6)\n",
    "print(7)\n",
    "print(8)\n",
    "print(9)\n",
    "print(10)"
   ]
  },
  {
   "cell_type": "code",
   "execution_count": 140,
   "id": "21ced367",
   "metadata": {},
   "outputs": [
    {
     "name": "stdout",
     "output_type": "stream",
     "text": [
      "0\n",
      "1\n",
      "2\n",
      "3\n",
      "4\n",
      "5\n",
      "6\n",
      "7\n",
      "8\n",
      "9\n",
      "10\n"
     ]
    }
   ],
   "source": [
    "#autor: Reginaldo Mota (O Régis)\n",
    "\n",
    "for contador in range(0,11):\n",
    "    print(contador)"
   ]
  },
  {
   "cell_type": "code",
   "execution_count": 146,
   "id": "5a239e2f",
   "metadata": {},
   "outputs": [
    {
     "name": "stdout",
     "output_type": "stream",
     "text": [
      "2\n",
      "3\n",
      "5\n",
      "8\n",
      "1\n",
      "2\n",
      "4\n",
      "8\n",
      "24\n"
     ]
    }
   ],
   "source": [
    "# Autor: Reginaldo Mota (O Régis)\n",
    "\n",
    "lista_de_numeros = [2,3,5,8,1,2,4,8,24]\n",
    "\n",
    "for numero in lista_de_numeros:\n",
    "    print(numero)\n",
    "    \n",
    "# imprime\n",
    "# 2\n",
    "# 3\n",
    "# 5\n",
    "# 8\n",
    "# 1\n",
    "# 2\n",
    "# 4\n",
    "# 8\n",
    "# 24"
   ]
  },
  {
   "cell_type": "code",
   "execution_count": 147,
   "id": "80caa4fd",
   "metadata": {},
   "outputs": [
    {
     "name": "stdout",
     "output_type": "stream",
     "text": [
      "0\n",
      "1\n",
      "2\n",
      "3\n",
      "4\n",
      "5\n",
      "6\n",
      "7\n",
      "8\n",
      "9\n",
      "10\n"
     ]
    }
   ],
   "source": [
    "# Autor: Reginaldo Mota (O Régis)\n",
    "\n",
    "contador = 0\n",
    "\n",
    "while contador <= 10: # condição de parada\n",
    "    print(contador) # bloco a ser repetido\n",
    "    contador += 1 # manipulação da variável de controle"
   ]
  },
  {
   "cell_type": "code",
   "execution_count": 150,
   "id": "0ae821ed",
   "metadata": {},
   "outputs": [
    {
     "name": "stdout",
     "output_type": "stream",
     "text": [
      "0\n",
      "1\n",
      "2\n",
      "3\n",
      "4\n",
      "5\n",
      "6\n",
      "7\n",
      "8\n",
      "9\n",
      "10\n"
     ]
    }
   ],
   "source": [
    "# Autor: Reginaldo Mota (O Régis)\n",
    "\n",
    "def imprimir_numeros_do_intervalo(valor_inicial, valor_final):\n",
    "    for numero in range(valor_inicial, valor_final + 1):\n",
    "        print(numero)\n",
    "\n",
    "imprimir_numeros_do_intervalo(0,10)\n",
    "\n",
    "# imprime\n",
    "# 0\n",
    "# 1\n",
    "# 2\n",
    "# 3\n",
    "# 4\n",
    "# 5\n",
    "# 6\n",
    "# 7\n",
    "# 8\n",
    "# 9\n",
    "# 10"
   ]
  },
  {
   "cell_type": "code",
   "execution_count": 154,
   "id": "1666d8b9",
   "metadata": {},
   "outputs": [
    {
     "name": "stdout",
     "output_type": "stream",
     "text": [
      "6\n",
      "24\n",
      "120\n",
      "40320\n"
     ]
    }
   ],
   "source": [
    "# Autor: Reginaldo Mota (O Régis)\n",
    "\n",
    "def fatorial(numero_inteiro_positivo):\n",
    "    if type(numero_inteiro_positivo) is not int or numero_inteiro_positivo < 0:\n",
    "        return -1 # retorna -1 (entrada inválida)\n",
    "    \n",
    "    resultado = 1\n",
    "    \n",
    "    while numero_inteiro_positivo > 1:\n",
    "        resultado *= numero_inteiro_positivo\n",
    "        numero_inteiro_positivo -= 1\n",
    "    \n",
    "    return resultado # retorno da função\n",
    "\n",
    "retorno_da_funcao = fatorial(3)\n",
    "retorno_da_funcao1 = fatorial(4)\n",
    "retorno_da_funcao2 = fatorial(5)\n",
    "retorno_da_funcao3 = fatorial(8)\n",
    "\n",
    "\n",
    "print(retorno_da_funcao) # imprime: 6\n",
    "print(retorno_da_funcao1) # imprime: 24\n",
    "print(retorno_da_funcao2) # imprime: 120\n",
    "print(retorno_da_funcao3) # imprime: 40320"
   ]
  }
 ],
 "metadata": {
  "kernelspec": {
   "display_name": "Python 3 (ipykernel)",
   "language": "python",
   "name": "python3"
  },
  "language_info": {
   "codemirror_mode": {
    "name": "ipython",
    "version": 3
   },
   "file_extension": ".py",
   "mimetype": "text/x-python",
   "name": "python",
   "nbconvert_exporter": "python",
   "pygments_lexer": "ipython3",
   "version": "3.10.5"
  }
 },
 "nbformat": 4,
 "nbformat_minor": 5
}
