{
 "cells": [
  {
   "cell_type": "code",
   "execution_count": 19,
   "id": "efee0fe9",
   "metadata": {},
   "outputs": [
    {
     "name": "stdout",
     "output_type": "stream",
     "text": [
      "False\n",
      "True\n",
      "True\n",
      "True\n"
     ]
    }
   ],
   "source": [
    "#autor: Reginaldo Mota (O Régis)\n",
    "\n",
    "class Pessoa:\n",
    "    def __init__(self, nome, idade):\n",
    "        self.nome = nome\n",
    "        self.idade = idade\n",
    "\n",
    "Reginaldo1 = Pessoa('Reginaldo', 19)\n",
    "Reginaldo2 = Pessoa('Reginaldo', 19)\n",
    "\n",
    "print(Reginaldo1 is Reginaldo2) # retorna False\n",
    "print(Reginaldo1 is not Reginaldo2) # retorna True\n",
    "print(Reginaldo1.nome == Reginaldo2.nome) # retorna True\n",
    "print(Reginaldo1.idade == Reginaldo2.idade) # retorna True"
   ]
  },
  {
   "cell_type": "code",
   "execution_count": 27,
   "id": "7e9f5c8a",
   "metadata": {},
   "outputs": [
    {
     "name": "stdout",
     "output_type": "stream",
     "text": [
      "True\n",
      "True\n",
      "False\n",
      "True\n"
     ]
    }
   ],
   "source": [
    "#autor: Reginaldo Mota (O Régis)\n",
    "\n",
    "nome = 'O Régis'\n",
    "\n",
    "print('O' in nome) #imprime: True\n",
    "print('Régis' in nome) #imprime: True\n",
    "print('A' in nome) #imprime: False\n",
    "print('F' not in nome) #imprime:True"
   ]
  },
  {
   "cell_type": "code",
   "execution_count": 39,
   "id": "ad12ea83",
   "metadata": {},
   "outputs": [
    {
     "name": "stdout",
     "output_type": "stream",
     "text": [
      "4\n",
      "[1, 2, 3, 4, 5, 6, 7, 8, 9, 10]\n",
      "[42, 2, 3, 4, 5, 6, 7, 8, 9, 10]\n",
      "[42, 2, 3, 4, 5, 6, 7, 8, 9, 10, 10]\n"
     ]
    }
   ],
   "source": [
    "#autor: O Régis\n",
    "\n",
    "lista_de_numeros = [ 1, 2, 3, 4, 5, 6, 7, 8, 9 ]\n",
    "\n",
    "print(lista_de_numeros[3]) #imprime: 4\n",
    "\n",
    "lista_de_numeros.append(10) \n",
    "\n",
    "print(lista_de_numeros) #imprime: [1, 2, 3, 4, 5, 6, 7, 8, 9, 10]\n",
    "\n",
    "lista_de_numeros[0] = 42\n",
    "\n",
    "print(lista_de_numeros) #imprime: [42, 2, 3, 4, 5, 6, 7, 8, 9, 10]\n",
    "\n",
    "lista_de_numeros.append(10)\n",
    "\n",
    "print(lista_de_numeros) #imprime: [1, 2, 3, 4, 5, 6, 7, 8, 9, 10, 10]\n"
   ]
  },
  {
   "cell_type": "code",
   "execution_count": 66,
   "id": "1e0c8f75",
   "metadata": {},
   "outputs": [
    {
     "name": "stdout",
     "output_type": "stream",
     "text": [
      "(4, 2)\n",
      "(8, 3)\n",
      "4\n",
      "3\n",
      "(1, 2, 3, 4, 5, 6, 7, 8, 9, 0, 1, 2, 3, 45, 7, 2, 6, 9, 3, 1, 1, 1, 1, 1)\n"
     ]
    }
   ],
   "source": [
    "#autor: Reginaldo Mota (O Régis)\n",
    "\n",
    "coordenadas_iniciais = (4,2)\n",
    "coordenadas_finais = (8,3)\n",
    "\n",
    "print(coordenadas_iniciais)\n",
    "print(coordenadas_finais)\n",
    "\n",
    "print(coordenadas_iniciais[0])\n",
    "print(coordenadas_finais[1])\n",
    "\n",
    "# As linhas abaixo retornam erros\n",
    "# coordenadas_iniciais[0] = 3 # imutável\n",
    "# coordenadas_iniciais[2] = 2 # inexpansível\n",
    "\n",
    "# Tuplas podem ter vários elementos e duplicados\n",
    "\n",
    "tupla_gigante = (1,2,3,4,5,6,7,8,9,0,1,2,3,45,7,2,6,9,3,1,1,1,1,1)\n",
    "\n",
    "print(tupla_gigante) #imprime: (1, 2, 3, 4, 5, 6, 7, 8, 9, 0, 1, 2, 3, 45, 7, 2, 6, 9, 3, 1, 1, 1, 1, 1)"
   ]
  },
  {
   "cell_type": "code",
   "execution_count": 108,
   "id": "b32f5af3",
   "metadata": {},
   "outputs": [
    {
     "name": "stdout",
     "output_type": "stream",
     "text": [
      "{1, 2, 3, 4, 5}\n",
      "{'i', 'u', 'a', 'e', 'o'}\n",
      "{0.4, 1.2, 1.4, 5.2, 5.1}\n",
      "{0, 1, 2, 3, 4, 5}\n",
      "{0, 1, 2, 3, 4, 5}\n"
     ]
    }
   ],
   "source": [
    "#autor: Reginaldo Mota (O Régis)\n",
    "\n",
    "numeros_ordenados = { 2, 1, 3, 5, 4 } # ordena números automaticamente\n",
    "vogais = { 'a', 'e', 'i', 'o', 'u'} # o mesmo não acontece com letras\n",
    "numeros_decimais = {1.2,5.2,0.4,1.4,5.1} # ordena se diferença entre os números for maior ou igual a 0.2\n",
    "\n",
    "print(numeros_ordenados) # imprime: {1, 2, 3, 4, 5}\n",
    "print(vogais) # imprime: {'i', 'u', 'a', 'e', 'o'}\n",
    "print(numeros_decimais) # imprime: {0.4, 1.2, 1.4, 5.2, 5.1}\n",
    "\n",
    "numeros_ordenados.add(0) # expansível\n",
    "\n",
    "print(numeros_ordenados) # imprime: {0, 1, 2, 3, 4, 5}\n",
    "\n",
    "numeros_ordenados.add(0) # não permite duplicatas\n",
    "\n",
    "print(numeros_ordenados) # imprime: {0, 1, 2, 3, 4, 5}\n",
    "\n",
    "# As linhas abaixo retornam erros\n",
    "# numeros_ordenados[0] = 3 # diretamente imutável"
   ]
  }
 ],
 "metadata": {
  "kernelspec": {
   "display_name": "Python 3 (ipykernel)",
   "language": "python",
   "name": "python3"
  },
  "language_info": {
   "codemirror_mode": {
    "name": "ipython",
    "version": 3
   },
   "file_extension": ".py",
   "mimetype": "text/x-python",
   "name": "python",
   "nbconvert_exporter": "python",
   "pygments_lexer": "ipython3",
   "version": "3.10.5"
  }
 },
 "nbformat": 4,
 "nbformat_minor": 5
}
