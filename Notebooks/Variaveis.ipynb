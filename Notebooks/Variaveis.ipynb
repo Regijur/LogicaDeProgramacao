{
 "cells": [
  {
   "cell_type": "code",
   "execution_count": 10,
   "id": "e73543e6",
   "metadata": {},
   "outputs": [
    {
     "data": {
      "text/plain": [
       "61"
      ]
     },
     "execution_count": 10,
     "metadata": {},
     "output_type": "execute_result"
    }
   ],
   "source": [
    "# nome_da_variavel = valor_da_variavel\n",
    "nome = \"Jose\"\n",
    "numero = 58"
   ]
  },
  {
   "cell_type": "code",
   "execution_count": 28,
   "id": "3c3f1308",
   "metadata": {},
   "outputs": [
    {
     "data": {
      "text/plain": [
       "'Régis'"
      ]
     },
     "execution_count": 28,
     "metadata": {},
     "output_type": "execute_result"
    }
   ],
   "source": [
    "nome_do_professor_da_turma_A = \"Régis\"\n",
    "xlr8 = \"Régis\"\n",
    "\n",
    "xlr8"
   ]
  },
  {
   "cell_type": "markdown",
   "id": "ff1a507a",
   "metadata": {},
   "source": [
    "# Regras de Nomenclatura"
   ]
  },
  {
   "cell_type": "code",
   "execution_count": 19,
   "id": "22346789",
   "metadata": {},
   "outputs": [],
   "source": [
    "nome_do_professor = \"Régis\"\n",
    "nomeDoProfessor = \"Régis\""
   ]
  },
  {
   "cell_type": "markdown",
   "id": "8999f43e",
   "metadata": {},
   "source": [
    "# Tipos de Variáveis"
   ]
  },
  {
   "cell_type": "code",
   "execution_count": 27,
   "id": "a8b14c33",
   "metadata": {},
   "outputs": [
    {
     "data": {
      "text/plain": [
       "39.6"
      ]
     },
     "execution_count": 27,
     "metadata": {},
     "output_type": "execute_result"
    }
   ],
   "source": [
    "numero_inteiro = 34 # inteiro\n",
    "numero_decimais = 5.6 # decimal\n",
    "nome_do_professor = 'Régis' # textual\n",
    "caracteres = 'R' # char\n",
    "booleano = True # False # bool\n",
    "\n",
    "nome_do_professor + caracteres\n",
    "numero_inteiro + numero_decimais"
   ]
  }
 ],
 "metadata": {
  "kernelspec": {
   "display_name": "Python 3 (ipykernel)",
   "language": "python",
   "name": "python3"
  },
  "language_info": {
   "codemirror_mode": {
    "name": "ipython",
    "version": 3
   },
   "file_extension": ".py",
   "mimetype": "text/x-python",
   "name": "python",
   "nbconvert_exporter": "python",
   "pygments_lexer": "ipython3",
   "version": "3.10.5"
  }
 },
 "nbformat": 4,
 "nbformat_minor": 5
}
