{
 "cells": [
  {
   "cell_type": "markdown",
   "id": "00f34a79",
   "metadata": {},
   "source": [
    "# Estrutas Condicionais"
   ]
  },
  {
   "cell_type": "code",
   "execution_count": 7,
   "id": "3dc82b1b",
   "metadata": {},
   "outputs": [
    {
     "name": "stdout",
     "output_type": "stream",
     "text": [
      "7.166666666666667\n",
      "aprovado\n"
     ]
    }
   ],
   "source": [
    "notas = [5.3,6.7,9.5]\n",
    "\n",
    "media_final = (notas[0] + notas[1] + notas[2]) / 3\n",
    "\n",
    "print(media_final)\n",
    "\n",
    "if media_final >= 6.0:\n",
    "    print('aprovado')\n",
    "    \n",
    "if media_final < 6.0:\n",
    "    print('reprovado')"
   ]
  },
  {
   "cell_type": "code",
   "execution_count": 9,
   "id": "c2ad8fc0",
   "metadata": {},
   "outputs": [
    {
     "name": "stdout",
     "output_type": "stream",
     "text": [
      "5.166666666666667\n",
      "reprovado\n"
     ]
    }
   ],
   "source": [
    "notas = [5.3,6.7,3.5]\n",
    "\n",
    "media_final = (notas[0] + notas[1] + notas[2]) / 3\n",
    "\n",
    "print(media_final)\n",
    "\n",
    "if media_final >= 6.0:\n",
    "    print('aprovado')\n",
    "else:\n",
    "    print('reprovado')"
   ]
  },
  {
   "cell_type": "code",
   "execution_count": 11,
   "id": "6e088969",
   "metadata": {},
   "outputs": [
    {
     "name": "stdout",
     "output_type": "stream",
     "text": [
      "4.5\n",
      "reprovado\n"
     ]
    }
   ],
   "source": [
    "notas = [5.3,6.7,1.5]\n",
    "\n",
    "media_final = (notas[0] + notas[1] + notas[2]) / 3\n",
    "\n",
    "print(media_final)\n",
    "\n",
    "if media_final >= 6.0:\n",
    "    print('aprovado')\n",
    "else:\n",
    "    if media_final >= 5.0:\n",
    "        print('recuperação')\n",
    "    else:\n",
    "        print('reprovado')"
   ]
  },
  {
   "cell_type": "code",
   "execution_count": 14,
   "id": "04f0bc9f",
   "metadata": {},
   "outputs": [
    {
     "name": "stdout",
     "output_type": "stream",
     "text": [
      "6.833333333333333\n",
      "aprovado\n"
     ]
    }
   ],
   "source": [
    "notas = [5.3,6.7,8.5]\n",
    "\n",
    "media_final = (notas[0] + notas[1] + notas[2]) / 3\n",
    "\n",
    "print(media_final)\n",
    "\n",
    "if media_final >= 6.0:\n",
    "    print('aprovado')\n",
    "elif media_final >= 5.0:\n",
    "    print('recuperação')\n",
    "else:\n",
    "    print('reprovado')"
   ]
  },
  {
   "cell_type": "code",
   "execution_count": 18,
   "id": "b87ca4c8",
   "metadata": {
    "scrolled": true
   },
   "outputs": [
    {
     "name": "stdout",
     "output_type": "stream",
     "text": [
      "6.55\n",
      "Parabéns, você está de férias!\n"
     ]
    }
   ],
   "source": [
    "notas = [5.3,6.7,9.5,4.7]\n",
    "\n",
    "media_final = (notas[0] + notas[1] + notas[2] + notas[3]) / 4\n",
    "\n",
    "print(media_final)\n",
    "\n",
    "status_estudante = ''\n",
    "\n",
    "if media_final >= 6.0:\n",
    "    status_estudante = 'aprovado'\n",
    "elif media_final >= 5.0:\n",
    "    status_estudante = 'recuperação'\n",
    "else:\n",
    "    status_estudante = 'reprovado'\n",
    "    \n",
    "match status_estudante:\n",
    "    case 'aprovado':\n",
    "        print('Parabéns, você está de férias!')\n",
    "    case 'reprovado':\n",
    "        print('Não deu parceiro, nos vemos no próximo semestre!')\n",
    "    case 'recuperação':\n",
    "        print('Nem tudo está perdido, você ainda tem uma chance, estude para a recuperação!')\n",
    "    case _:\n",
    "        print('Entrada Inválido')"
   ]
  },
  {
   "cell_type": "markdown",
   "id": "cfb5a236",
   "metadata": {},
   "source": [
    "# Estruturas de Repetição"
   ]
  },
  {
   "cell_type": "code",
   "execution_count": 27,
   "id": "9624eb1e",
   "metadata": {},
   "outputs": [
    {
     "name": "stdout",
     "output_type": "stream",
     "text": [
      "6.55\n"
     ]
    }
   ],
   "source": [
    "notas = [5.3,6.7,9.5,4.7]\n",
    "\n",
    "media_final = 0\n",
    "\n",
    "for nota in notas:\n",
    "    media_final += nota\n",
    "\n",
    "media_final /= len(notas)\n",
    "\n",
    "\n",
    "print(media_final)"
   ]
  },
  {
   "cell_type": "code",
   "execution_count": 39,
   "id": "62dea296",
   "metadata": {},
   "outputs": [
    {
     "name": "stdout",
     "output_type": "stream",
     "text": [
      "5.186111111111111\n",
      "Nem tudo está perdido, você ainda tem uma chance, estude para a recuperação!\n"
     ]
    }
   ],
   "source": [
    "notas = [5.3,6.7,9.5,4.7,5.6,1.35,9.2,10,2,4,6,8,1,3,5,2,4,6]\n",
    "\n",
    "media_final = 0\n",
    "\n",
    "for contador in range(0,len(notas)):\n",
    "    media_final += notas[contador]\n",
    "\n",
    "media_final /= len(notas)\n",
    "\n",
    "print(media_final)\n",
    "\n",
    "status_estudante = ''\n",
    "\n",
    "if media_final >= 6.0:\n",
    "    status_estudante = 'aprovado'\n",
    "elif media_final >= 5.0:\n",
    "    status_estudante = 'recuperação'\n",
    "else:\n",
    "    status_estudante = 'reprovado'\n",
    "    \n",
    "match status_estudante:\n",
    "    case 'aprovado':\n",
    "        print('Parabéns, você está de férias!')\n",
    "    case 'reprovado':\n",
    "        print('Não deu parceiro, nos vemos no próximo semestre!')\n",
    "    case 'recuperação':\n",
    "        print('Nem tudo está perdido, você ainda tem uma chance, estude para a recuperação!')\n",
    "    case _:\n",
    "        print('Entrada Inválido')"
   ]
  },
  {
   "cell_type": "code",
   "execution_count": 41,
   "id": "0a0907e5",
   "metadata": {},
   "outputs": [
    {
     "name": "stdout",
     "output_type": "stream",
     "text": [
      "5.186111111111111\n"
     ]
    }
   ],
   "source": [
    "notas = [5.3,6.7,9.5,4.7,5.6,1.35,9.2,10,2,4,6,8,1,3,5,2,4,6]\n",
    "\n",
    "media_final = 0\n",
    "contador = 0\n",
    "\n",
    "while contador < len(notas):\n",
    "    media_final += notas[contador]\n",
    "    contador += 1\n",
    "\n",
    "media_final /= len(notas)\n",
    "\n",
    "print(media_final)"
   ]
  }
 ],
 "metadata": {
  "kernelspec": {
   "display_name": "Python 3 (ipykernel)",
   "language": "python",
   "name": "python3"
  },
  "language_info": {
   "codemirror_mode": {
    "name": "ipython",
    "version": 3
   },
   "file_extension": ".py",
   "mimetype": "text/x-python",
   "name": "python",
   "nbconvert_exporter": "python",
   "pygments_lexer": "ipython3",
   "version": "3.10.5"
  }
 },
 "nbformat": 4,
 "nbformat_minor": 5
}
