{
 "cells": [
  {
   "cell_type": "code",
   "execution_count": 15,
   "id": "bea9167d",
   "metadata": {},
   "outputs": [],
   "source": [
    "class Estudante:\n",
    "    def __init__(self, nome, registro_academico):\n",
    "        self.nome = nome\n",
    "        self.registro_academico = registro_academico\n",
    "        self.disciplinas = {}\n",
    "    \n",
    "    def esta_matriculado_na_disciplina(self, nome_da_disciplina):\n",
    "        return nome_da_disciplina in self.disciplinas.keys()\n",
    "    \n",
    "    def matricular(self, nome_da_disciplina, turma):\n",
    "        if not self.esta_matriculado_na_disciplina(nome_da_disciplina):\n",
    "            self.disciplinas[nome_da_disciplina] = turma\n",
    "\n",
    "    def trancar_disciplina(self, nome_da_disciplina):\n",
    "        if self.esta_matriculado_na_disciplina(nome_da_disciplina):\n",
    "            self.disciplinas.pop(nome_da_disciplina)"
   ]
  },
  {
   "cell_type": "code",
   "execution_count": 16,
   "id": "1bcab7d3",
   "metadata": {},
   "outputs": [
    {
     "name": "stdout",
     "output_type": "stream",
     "text": [
      "False\n",
      "True\n",
      "False\n"
     ]
    }
   ],
   "source": [
    "estudante = Estudante(\"Régis\", \"THEBESTTHEACHER\")\n",
    "\n",
    "print(estudante.esta_matriculado_na_disciplina('Lógica de Programação'))\n",
    "\n",
    "estudante.matricular('Lógica de Programação', 'A')\n",
    "\n",
    "print(estudante.esta_matriculado_na_disciplina('Lógica de Programação'))\n",
    "\n",
    "estudante.trancar_disciplina('Lógica de Programação')\n",
    "\n",
    "print(estudante.esta_matriculado_na_disciplina('Lógica de Programação'))"
   ]
  },
  {
   "cell_type": "code",
   "execution_count": 19,
   "id": "08e7aebb",
   "metadata": {},
   "outputs": [
    {
     "name": "stdout",
     "output_type": "stream",
     "text": [
      "OPORDX\n",
      "ONBTQA\n",
      "OMBDDA\n",
      "MBGJVT\n",
      "INMBGR\n",
      "MBGTAC\n",
      "False\n"
     ]
    }
   ],
   "source": [
    "estudantes = [\n",
    "    Estudante('Abel', 'OPORDX'),\n",
    "    Estudante('Jose', 'ONBTQA'),\n",
    "    Estudante('Epaminondas', 'OMBDDA'),\n",
    "    Estudante('Ponácio', 'MBGJVT'),\n",
    "    Estudante('Matt', 'INMBGR'),\n",
    "    Estudante('Framael', 'MBGTAC'),\n",
    "]\n",
    "\n",
    "for estudante in estudantes:\n",
    "    print(estudante.registro_academico)\n",
    "    \n",
    "print(estudantes[3].esta_matriculado_na_disciplina('Lógica de Programação'))"
   ]
  },
  {
   "cell_type": "code",
   "execution_count": 20,
   "id": "f7c8380b",
   "metadata": {},
   "outputs": [
    {
     "name": "stdout",
     "output_type": "stream",
     "text": [
      "Régis\n",
      "False\n",
      "R\n",
      "True\n",
      "False\n",
      "Anabinael\n",
      "Bill Gates\n",
      "Irineu\n",
      "Zamate\n"
     ]
    }
   ],
   "source": [
    "# Autor: Reginaldo Mota (O Régis)\n",
    "\n",
    "class Estudante:\n",
    "    def __init__(self, nome, registro_academico):\n",
    "        self.nome = nome\n",
    "        self.registro_academico = registro_academico\n",
    "        self.disciplinas_matriculado = {}\n",
    "    \n",
    "    def esta_matriculado_na_disciplina(self, nome_da_disciplina):\n",
    "        return nome_da_disciplina in self.disciplinas_matriculado.keys()\n",
    "    \n",
    "    def matricular(self, nome_da_disciplina, turma):\n",
    "        if not self.esta_matriculado_na_disciplina(nome_da_disciplina):\n",
    "            self.disciplinas_matriculado[nome_da_disciplina] = turma\n",
    "            return True\n",
    "        return False\n",
    "    \n",
    "    def trancar_disciplina(self, nome_da_disciplina):\n",
    "        if self.esta_matriculado_na_disciplina(nome_da_disciplina):\n",
    "            self.disciplinas_matriculado.pop(nome_da_disciplina)\n",
    "            return True\n",
    "        return False\n",
    "    \n",
    "    def qual_a_turma_que_esta_matriculado(self, nome_da_disciplina):\n",
    "        if self.esta_matriculado_na_disciplina(nome_da_disciplina):\n",
    "            return self.disciplinas_matriculado[nome_da_disciplina]\n",
    "        return False\n",
    "    \n",
    "estudante = Estudante('Régis', 'THEBESTTEACHER')\n",
    "\n",
    "estudante.matricular('Programação Orientada a Objetos', 'O')\n",
    "estudante.matricular('Lógica de Programação', 'R')\n",
    "estudante.matricular('Estrutura de Dados', 'E')\n",
    "estudante.matricular('Banco de Dados', 'G')\n",
    "estudante.matricular('Desenvolvimento de Jogos', 'I')\n",
    "estudante.matricular('Desencolvimento Web', 'S')\n",
    "\n",
    "print(estudante.nome) #imprime: Régis\n",
    "print(estudante.esta_matriculado_na_disciplina('Segurança da Informação')) #imprime: False\n",
    "print(estudante.qual_a_turma_que_esta_matriculado('Lógica de Programação')) #imprime: R\n",
    "\n",
    "print(estudante.esta_matriculado_na_disciplina('Estrutura de Dados')) #imprime: True\n",
    "\n",
    "estudante.trancar_disciplina('Estrutura de Dados')\n",
    "\n",
    "print(estudante.esta_matriculado_na_disciplina('Estrutura de Dados')) #imprime: False\n",
    "\n",
    "estudantes = [Estudante('Anabinael', 'KZLAMR'), \n",
    "              Estudante('Bill Gates', 'PYBAMR'), \n",
    "              Estudante('Irineu', 'KZLPER'), \n",
    "              Estudante('Zamate', 'A4ZLAM')]\n",
    "\n",
    "\n",
    "for estudante in estudantes:\n",
    "    print(estudante.nome)\n",
    "    # imprime os nomes Anabinael, Bill Gates, Irineu e Zamate"
   ]
  }
 ],
 "metadata": {
  "kernelspec": {
   "display_name": "Python 3 (ipykernel)",
   "language": "python",
   "name": "python3"
  },
  "language_info": {
   "codemirror_mode": {
    "name": "ipython",
    "version": 3
   },
   "file_extension": ".py",
   "mimetype": "text/x-python",
   "name": "python",
   "nbconvert_exporter": "python",
   "pygments_lexer": "ipython3",
   "version": "3.10.5"
  }
 },
 "nbformat": 4,
 "nbformat_minor": 5
}
