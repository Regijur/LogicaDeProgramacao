{
 "cells": [
  {
   "cell_type": "markdown",
   "id": "aa24252b",
   "metadata": {},
   "source": [
    "# Ariméticos"
   ]
  },
  {
   "cell_type": "code",
   "execution_count": 73,
   "id": "9baa9a71",
   "metadata": {
    "scrolled": true
   },
   "outputs": [
    {
     "name": "stdout",
     "output_type": "stream",
     "text": [
      "9 + 6 = 15\n",
      "9 - 6 = 3\n",
      "9 * 6 = 54\n",
      "9 / 6 = 1.5\n",
      "9 // 6 = 1\n",
      "9 % 6 = 3\n",
      "9 ** 6 = 531441\n"
     ]
    }
   ],
   "source": [
    "numero1 = 9\n",
    "numero2 = 6\n",
    "\n",
    "#soma\n",
    "resultado = numero1 + numero2\n",
    "print(f'{numero1} + {numero2} = {resultado}')\n",
    "\n",
    "#subtração\n",
    "resultado = numero1 - numero2\n",
    "print(f'{numero1} - {numero2} = {resultado}')\n",
    "\n",
    "#multiplicação\n",
    "resultado = numero1 * numero2\n",
    "print(f'{numero1} * {numero2} = {resultado}')\n",
    "\n",
    "#divisão\n",
    "resultado = numero1 / numero2\n",
    "print(f'{numero1} / {numero2} = {resultado}')\n",
    "\n",
    "#divisão inteira\n",
    "resultado = numero1 // numero2\n",
    "print(f'{numero1} // {numero2} = {resultado}')\n",
    "\n",
    "#resto | módulo\n",
    "resultado = numero1 % numero2\n",
    "print(f'{numero1} % {numero2} = {resultado}')\n",
    "\n",
    "#exponenciação\n",
    "resultado = numero1 ** numero2\n",
    "print(f'{numero1} ** {numero2} = {resultado}')\n"
   ]
  },
  {
   "cell_type": "markdown",
   "id": "2d359dba",
   "metadata": {},
   "source": [
    "# Atribuição"
   ]
  },
  {
   "cell_type": "code",
   "execution_count": 36,
   "id": "2f3b61f1",
   "metadata": {
    "scrolled": true
   },
   "outputs": [
    {
     "name": "stdout",
     "output_type": "stream",
     "text": [
      "40\n",
      "48\n",
      "56\n",
      "41\n",
      "615\n",
      "41.0\n",
      "11.0\n"
     ]
    }
   ],
   "source": [
    "numero1 = 3\n",
    "numero2 = 5\n",
    "\n",
    "resultado = 40 # atribuição (=)\n",
    "\n",
    "print(resultado)\n",
    "resultado = resultado + numero1 + numero2\n",
    "print(resultado)\n",
    "resultado += numero1 + numero2\n",
    "print(resultado)\n",
    "resultado -= numero1 * numero2\n",
    "print(resultado)\n",
    "resultado *= numero1 * numero2\n",
    "print(resultado)\n",
    "resultado /= numero1 * numero2\n",
    "print(resultado)\n",
    "resultado %= numero1 * numero2\n",
    "print(resultado)"
   ]
  },
  {
   "cell_type": "markdown",
   "id": "03383e59",
   "metadata": {},
   "source": [
    "# Comparação"
   ]
  },
  {
   "cell_type": "code",
   "execution_count": 43,
   "id": "27fe0380",
   "metadata": {},
   "outputs": [
    {
     "name": "stdout",
     "output_type": "stream",
     "text": [
      "False\n",
      "True\n",
      "False\n",
      "True\n",
      "False\n",
      "True\n",
      "False\n",
      "True\n"
     ]
    }
   ],
   "source": [
    "numero1 = 6\n",
    "numero2 = 2\n",
    "\n",
    "print(numero1 < numero2)\n",
    "print(numero1 > numero2)\n",
    "print(numero1 <= numero2)\n",
    "print(numero1 >= numero2)\n",
    "print(numero1 == numero2)\n",
    "print(numero1 != numero2)\n",
    "\n",
    "nome_do_professor = \"Régis\"\n",
    "nome_do_dono_do_canal = \"Amenadiel\"\n",
    "\n",
    "print(nome_do_dono_do_canal == nome_do_professor)\n",
    "print(nome_do_dono_do_canal != nome_do_professor)"
   ]
  },
  {
   "cell_type": "markdown",
   "id": "4be5dd6e",
   "metadata": {},
   "source": [
    "# Lógicos"
   ]
  },
  {
   "cell_type": "code",
   "execution_count": 58,
   "id": "7d7d3002",
   "metadata": {},
   "outputs": [
    {
     "name": "stdout",
     "output_type": "stream",
     "text": [
      "False\n",
      "True\n"
     ]
    }
   ],
   "source": [
    "# and (&) = todas as condições devem ser verdadeiras\n",
    "# or (|) = pelo menos uma das condições deve ser verdadeira\n",
    "# not (!) = inverte o valor\n",
    "\n",
    "numero1 = 4\n",
    "numero2 = 2\n",
    "numero3 = 1\n",
    "\n",
    "print(not numero1 < numero2 and numero1 > numero3)\n",
    "print(numero1 < numero2 or numero1 > numero3)\n"
   ]
  },
  {
   "cell_type": "markdown",
   "id": "2cf6098a",
   "metadata": {},
   "source": [
    "# Identidade"
   ]
  },
  {
   "cell_type": "code",
   "execution_count": 64,
   "id": "0516fa90",
   "metadata": {},
   "outputs": [
    {
     "name": "stdout",
     "output_type": "stream",
     "text": [
      "False\n",
      "True\n"
     ]
    }
   ],
   "source": [
    "numero1 = 1\n",
    "numero2 = '1'\n",
    "\n",
    "print(numero1 is numero2) # é\n",
    "print(numero1 is not numero2) # não é"
   ]
  },
  {
   "cell_type": "markdown",
   "id": "0ce9a205",
   "metadata": {},
   "source": [
    "# Associação"
   ]
  },
  {
   "cell_type": "code",
   "execution_count": 72,
   "id": "798040bc",
   "metadata": {},
   "outputs": [
    {
     "name": "stdout",
     "output_type": "stream",
     "text": [
      "True\n",
      "False\n",
      "True\n"
     ]
    }
   ],
   "source": [
    "nome_do_professor = 'O Régis'\n",
    "texto_teste = 'Régis'\n",
    "\n",
    "print(texto_teste in nome_do_professor) # pertence\n",
    "print(texto_teste not in nome_do_professor) # não pertence\n",
    "\n",
    "lista = [1,2,4,5,6,7,8,9,0,1,2,4,6,9,5,2,1,3,3,4,5,6,7,8,61]\n",
    "\n",
    "print(61 in lista)"
   ]
  }
 ],
 "metadata": {
  "kernelspec": {
   "display_name": "Python 3 (ipykernel)",
   "language": "python",
   "name": "python3"
  },
  "language_info": {
   "codemirror_mode": {
    "name": "ipython",
    "version": 3
   },
   "file_extension": ".py",
   "mimetype": "text/x-python",
   "name": "python",
   "nbconvert_exporter": "python",
   "pygments_lexer": "ipython3",
   "version": "3.10.5"
  }
 },
 "nbformat": 4,
 "nbformat_minor": 5
}
