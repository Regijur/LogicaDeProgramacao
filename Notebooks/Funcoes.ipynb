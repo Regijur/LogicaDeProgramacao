{
 "cells": [
  {
   "cell_type": "code",
   "execution_count": 9,
   "id": "f94f4b14",
   "metadata": {},
   "outputs": [],
   "source": [
    "def calcular_media_final(notas):\n",
    "    media_final = 0\n",
    "\n",
    "    for nota in notas:\n",
    "        media_final += nota\n",
    "\n",
    "    media_final /= len(notas)\n",
    "\n",
    "    return media_final"
   ]
  },
  {
   "cell_type": "code",
   "execution_count": 11,
   "id": "becbaaec",
   "metadata": {},
   "outputs": [
    {
     "name": "stdout",
     "output_type": "stream",
     "text": [
      "6.625\n",
      "6.375\n",
      "7.325\n",
      "5.95\n",
      "7.875\n"
     ]
    }
   ],
   "source": [
    "notas_dos_alunos = [\n",
    "    [5.6,6.7,9.5,4.7],\n",
    "    [1.3,6.7,9.5,8.0],\n",
    "    [5.4,9.7,9.5,4.7],\n",
    "    [2.3,6.7,9.5,5.3],\n",
    "    [5.3,6.7,9.5,10.0]\n",
    "]\n",
    "\n",
    "for notas in notas_dos_alunos:\n",
    "    print(calcular_media_final(notas))"
   ]
  },
  {
   "cell_type": "code",
   "execution_count": 19,
   "id": "8a372278",
   "metadata": {},
   "outputs": [],
   "source": [
    "def calcular_media_final(notas, pesos = None):\n",
    "    media_final = 0\n",
    "    soma_dos_pesos = 0\n",
    "    \n",
    "    if pesos:\n",
    "        for contador in range(len(notas)):\n",
    "            media_final += notas[contador] * pesos[contador]\n",
    "            soma_dos_pesos += pesos[contador]\n",
    "        media_final /= soma_dos_pesos\n",
    "    \n",
    "    else:\n",
    "        for contador in range(len(notas)):\n",
    "            media_final += notas[contador]\n",
    "        media_final /= len(notas)\n",
    "\n",
    "    return media_final"
   ]
  },
  {
   "cell_type": "code",
   "execution_count": 20,
   "id": "6e072c3b",
   "metadata": {},
   "outputs": [
    {
     "name": "stdout",
     "output_type": "stream",
     "text": [
      "6.625\n"
     ]
    }
   ],
   "source": [
    "notas = [5.6,6.7,9.5,4.7]\n",
    "pesos = [4,1,5,7]\n",
    "\n",
    "print(calcular_media_final(notas))\n"
   ]
  },
  {
   "cell_type": "code",
   "execution_count": 25,
   "id": "0c239d36",
   "metadata": {},
   "outputs": [
    {
     "name": "stdout",
     "output_type": "stream",
     "text": [
      "oregis.dev: o melhor perfil do intagram para aprender programação\n"
     ]
    }
   ],
   "source": [
    "def meu_site(texto = ''):\n",
    "    print(f'oregis.dev: {texto}')\n",
    "\n",
    "meu_site('o melhor perfil do intagram para aprender programação')"
   ]
  }
 ],
 "metadata": {
  "kernelspec": {
   "display_name": "Python 3 (ipykernel)",
   "language": "python",
   "name": "python3"
  },
  "language_info": {
   "codemirror_mode": {
    "name": "ipython",
    "version": 3
   },
   "file_extension": ".py",
   "mimetype": "text/x-python",
   "name": "python",
   "nbconvert_exporter": "python",
   "pygments_lexer": "ipython3",
   "version": "3.10.5"
  }
 },
 "nbformat": 4,
 "nbformat_minor": 5
}
