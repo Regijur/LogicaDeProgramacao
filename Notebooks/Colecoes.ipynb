{
 "cells": [
  {
   "cell_type": "markdown",
   "id": "e1d9ff87",
   "metadata": {},
   "source": [
    "# Listas"
   ]
  },
  {
   "cell_type": "code",
   "execution_count": 12,
   "id": "c46ed2c7",
   "metadata": {},
   "outputs": [
    {
     "name": "stdout",
     "output_type": "stream",
     "text": [
      "[8, 1, 3, 2, 5, 6, 7, 'Régis']\n",
      "[8, 1, 3, 81, 5, 6, 7, 'Régis']\n",
      "[8, 1, 3, 81, 5, 6, 7, 'Régis', 5]\n"
     ]
    }
   ],
   "source": [
    "# contagem começa do 0\n",
    "# apelido_da_lista = [valor1, valor2,...]\n",
    "# apelido_da_lista[indice_do_valor_desejado]\n",
    "\n",
    "lista = [8,1,3,2,5,6,7,'Régis']\n",
    "\n",
    "print(lista)\n",
    "\n",
    "lista[3] = 81\n",
    "\n",
    "print(lista)\n",
    "\n",
    "lista.append(5)\n",
    "\n",
    "print(lista)\n",
    "\n",
    "matriz = [\n",
    "    [1,2,3],\n",
    "    [1,2,4],\n",
    "    [1,5,8]\n",
    "]"
   ]
  },
  {
   "cell_type": "markdown",
   "id": "6b27dca8",
   "metadata": {},
   "source": [
    "# Tuplas"
   ]
  },
  {
   "cell_type": "code",
   "execution_count": 18,
   "id": "3e74aa0c",
   "metadata": {},
   "outputs": [
    {
     "name": "stdout",
     "output_type": "stream",
     "text": [
      "56\n"
     ]
    }
   ],
   "source": [
    "tupla = (1,56,1)\n",
    "print(tupla[1])"
   ]
  },
  {
   "cell_type": "markdown",
   "id": "d293ff95",
   "metadata": {},
   "source": [
    "# Sets"
   ]
  },
  {
   "cell_type": "code",
   "execution_count": 28,
   "id": "871ba9d5",
   "metadata": {},
   "outputs": [
    {
     "name": "stdout",
     "output_type": "stream",
     "text": [
      "{1, 2, 3, 4, 5, 6, 7, 8, 9}\n",
      "{1, 2, 3, 4, 5, 6, 7, 8, 9, 10}\n"
     ]
    }
   ],
   "source": [
    "sets = {9,3,4,2,5,7,1,2,6,8}\n",
    "\n",
    "print(sets)\n",
    "\n",
    "sets.add(10)\n",
    "\n",
    "print(sets)"
   ]
  },
  {
   "cell_type": "markdown",
   "id": "cab03c09",
   "metadata": {},
   "source": [
    "# Dicionários"
   ]
  },
  {
   "cell_type": "code",
   "execution_count": 38,
   "id": "1a652ece",
   "metadata": {},
   "outputs": [
    {
     "name": "stdout",
     "output_type": "stream",
     "text": [
      "Régis\n",
      "Reginaldo\n",
      "melhor perfil de programação do instagram\n",
      "leia o meu blog para saber mais\n",
      "{'dono_do_canal': 'Régis', 'professor': 'Reginaldo', 'oregis.dev': 'melhor perfil de programação do instagram', 'oregis.dev.br': 'leia o meu blog para saber mais'}\n"
     ]
    }
   ],
   "source": [
    "dicionario = {\n",
    "    'dono_do_canal' : 'Régis',\n",
    "    'professor' : 'Régis',\n",
    "    'oregis.dev':'melhor perfil de programação do instagram'\n",
    "}\n",
    "\n",
    "print(dicionario['professor'])\n",
    "\n",
    "dicionario['professor'] = 'Reginaldo'\n",
    "\n",
    "print(dicionario['professor'])\n",
    "\n",
    "print(dicionario['oregis.dev'])\n",
    "\n",
    "dicionario['oregis.dev.br'] = 'leia o meu blog para saber mais'\n",
    "\n",
    "print(dicionario['oregis.dev.br'])\n",
    "\n",
    "print(dicionario)"
   ]
  }
 ],
 "metadata": {
  "kernelspec": {
   "display_name": "Python 3 (ipykernel)",
   "language": "python",
   "name": "python3"
  },
  "language_info": {
   "codemirror_mode": {
    "name": "ipython",
    "version": 3
   },
   "file_extension": ".py",
   "mimetype": "text/x-python",
   "name": "python",
   "nbconvert_exporter": "python",
   "pygments_lexer": "ipython3",
   "version": "3.10.5"
  }
 },
 "nbformat": 4,
 "nbformat_minor": 5
}
