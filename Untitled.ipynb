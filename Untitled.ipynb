{
 "cells": [
  {
   "cell_type": "code",
   "execution_count": 19,
   "id": "e1476509",
   "metadata": {},
   "outputs": [
    {
     "name": "stdout",
     "output_type": "stream",
     "text": [
      "False\n",
      "True\n",
      "True\n",
      "True\n"
     ]
    }
   ],
   "source": [
    "#autor: Reginaldo Mota (O Régis)\n",
    "\n",
    "class Pessoa:\n",
    "    def __init__(self, nome, idade):\n",
    "        self.nome = nome\n",
    "        self.idade = idade\n",
    "\n",
    "Reginaldo1 = Pessoa('Reginaldo', 19)\n",
    "Reginaldo2 = Pessoa('Reginaldo', 19)\n",
    "\n",
    "print(Reginaldo1 is Reginaldo2) # retorna False\n",
    "print(Reginaldo1 is not Reginaldo2) # retorna True\n",
    "print(Reginaldo1.nome == Reginaldo2.nome) # retorna True\n",
    "print(Reginaldo1.idade == Reginaldo2.idade) # retorna True"
   ]
  },
  {
   "cell_type": "code",
   "execution_count": 27,
   "id": "f9c18be4",
   "metadata": {},
   "outputs": [
    {
     "name": "stdout",
     "output_type": "stream",
     "text": [
      "True\n",
      "True\n",
      "False\n",
      "True\n"
     ]
    }
   ],
   "source": [
    "#autor: Reginaldo Mota (O Régis)\n",
    "\n",
    "nome = 'O Régis'\n",
    "\n",
    "print('O' in nome) #imprime: True\n",
    "print('Régis' in nome) #imprime: True\n",
    "print('A' in nome) #imprime: False\n",
    "print('F' not in nome) #imprime:True"
   ]
  },
  {
   "cell_type": "code",
   "execution_count": 39,
   "id": "8538a5e2",
   "metadata": {},
   "outputs": [
    {
     "name": "stdout",
     "output_type": "stream",
     "text": [
      "4\n",
      "[1, 2, 3, 4, 5, 6, 7, 8, 9, 10]\n",
      "[42, 2, 3, 4, 5, 6, 7, 8, 9, 10]\n",
      "[42, 2, 3, 4, 5, 6, 7, 8, 9, 10, 10]\n"
     ]
    }
   ],
   "source": [
    "#autor: O Régis\n",
    "\n",
    "lista_de_numeros = [ 1, 2, 3, 4, 5, 6, 7, 8, 9 ]\n",
    "\n",
    "print(lista_de_numeros[3]) #imprime: 4\n",
    "\n",
    "lista_de_numeros.append(10) \n",
    "\n",
    "print(lista_de_numeros) #imprime: [1, 2, 3, 4, 5, 6, 7, 8, 9, 10]\n",
    "\n",
    "lista_de_numeros[0] = 42\n",
    "\n",
    "print(lista_de_numeros) #imprime: [42, 2, 3, 4, 5, 6, 7, 8, 9, 10]\n",
    "\n",
    "lista_de_numeros.append(10)\n",
    "\n",
    "print(lista_de_numeros) #imprime: [1, 2, 3, 4, 5, 6, 7, 8, 9, 10, 10]\n"
   ]
  },
  {
   "cell_type": "code",
   "execution_count": 58,
   "id": "958f378a",
   "metadata": {},
   "outputs": [
    {
     "name": "stdout",
     "output_type": "stream",
     "text": [
      "(4, 2)\n"
     ]
    },
    {
     "data": {
      "text/plain": [
       "4"
      ]
     },
     "execution_count": 58,
     "metadata": {},
     "output_type": "execute_result"
    }
   ],
   "source": [
    "#autor: Reginaldo Mota (O Régis)\n",
    "\n",
    "coordenadas = (4,2)\n",
    "\n",
    "print(coordenadas)\n",
    "\n",
    "\n",
    "print(coordenadas[0])"
   ]
  }
 ],
 "metadata": {
  "kernelspec": {
   "display_name": "Python 3 (ipykernel)",
   "language": "python",
   "name": "python3"
  },
  "language_info": {
   "codemirror_mode": {
    "name": "ipython",
    "version": 3
   },
   "file_extension": ".py",
   "mimetype": "text/x-python",
   "name": "python",
   "nbconvert_exporter": "python",
   "pygments_lexer": "ipython3",
   "version": "3.10.5"
  }
 },
 "nbformat": 4,
 "nbformat_minor": 5
}
